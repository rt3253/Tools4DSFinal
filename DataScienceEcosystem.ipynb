{
 "cells": [
  {
   "cell_type": "code",
   "execution_count": 1,
   "id": "35d46ce8-dccf-4b90-b2bb-7c6b89a7c473",
   "metadata": {},
   "outputs": [],
   "source": [
    "# Create a markdown cell with the title Data Science Tools and Ecosystem using H1 style heading."
   ]
  },
  {
   "cell_type": "markdown",
   "id": "eadfbb76-5cd0-4643-8ea2-6911b748c988",
   "metadata": {},
   "source": [
    "# Data Science Tools and Ecosystem"
   ]
  },
  {
   "cell_type": "code",
   "execution_count": 4,
   "id": "8a5a7f5d-c116-4ec5-98a3-bf77fbe60126",
   "metadata": {},
   "outputs": [],
   "source": [
    "# Write an introductory sentence about the notebook"
   ]
  },
  {
   "cell_type": "markdown",
   "id": "1b49a361-7ef4-4cc3-9f28-e1c997f62401",
   "metadata": {},
   "source": [
    "In this notebook, Data Science Tools and Ecosystem are summarized."
   ]
  },
  {
   "cell_type": "code",
   "execution_count": 22,
   "id": "5b2c3346-f1e2-46ae-9604-84dfecf40f42",
   "metadata": {},
   "outputs": [],
   "source": [
    "# Insert a markdown cell to list Objectives"
   ]
  },
  {
   "cell_type": "markdown",
   "id": "1fd6ff12-5609-4e8d-a422-27213166d558",
   "metadata": {},
   "source": [
    "**Objectives:**\n",
    "* Create a Jupyter Notebook\n",
    "* List data science languages\n",
    "* List data science libraries\n",
    "* Create a table of Data Science tools\n",
    "* Introduce arithmetic expression examples"
   ]
  },
  {
   "cell_type": "code",
   "execution_count": 8,
   "id": "a62f0e15-2f25-42cd-b565-89ad74a8e2a5",
   "metadata": {},
   "outputs": [],
   "source": [
    "# Create a markdown cell to list data science languages"
   ]
  },
  {
   "cell_type": "markdown",
   "id": "c25be73c-7b8d-4800-ba9d-04358417aee9",
   "metadata": {},
   "source": [
    "Some of the popular languages that Data Scientists use are:\n",
    "1. Python\n",
    "2. R\n",
    "3. SQL\n",
    "4. C++"
   ]
  },
  {
   "cell_type": "code",
   "execution_count": 10,
   "id": "070e3a29-544a-43f5-b20a-510912e5aca7",
   "metadata": {},
   "outputs": [],
   "source": [
    "# Create a markdown cell to list data science libraries"
   ]
  },
  {
   "cell_type": "markdown",
   "id": "ab89083d-693e-4d5a-a1a5-b92e51c9504f",
   "metadata": {},
   "source": [
    "Some of the commonly used libraries used by Data Scientists include:"
   ]
  },
  {
   "cell_type": "markdown",
   "id": "0c49c949-43b1-465a-ae68-fb63a6aee469",
   "metadata": {},
   "source": [
    "1. NumPy\n",
    "2. Pandas\n",
    "3. Matplotlib\n",
    "4. Plotly"
   ]
  },
  {
   "cell_type": "code",
   "execution_count": 11,
   "id": "a4c37f4a-6374-46e7-b719-cc476e7314eb",
   "metadata": {},
   "outputs": [],
   "source": [
    "# Create a markdown cell with a table of Data Science tools"
   ]
  },
  {
   "cell_type": "markdown",
   "id": "855d1604-8abe-40be-8d0b-860c93805417",
   "metadata": {},
   "source": [
    "| Data Science Tools |\n",
    "| ------------------ |\n",
    "| Scikit-learn |\n",
    "| TensorFlow |\n",
    "| PyTorch |\n",
    "| Keras |"
   ]
  },
  {
   "cell_type": "code",
   "execution_count": 12,
   "id": "de74c56d-b571-4640-ae03-32a98a9e2676",
   "metadata": {},
   "outputs": [],
   "source": [
    "# Create a markdown cell introducing arithmetic expression examples"
   ]
  },
  {
   "cell_type": "markdown",
   "id": "fa57fd1a-32d6-4987-bc4b-cf8ffe27f921",
   "metadata": {},
   "source": [
    "## Below are a few examples of evaluating arithmetic expressions in Python"
   ]
  },
  {
   "cell_type": "code",
   "execution_count": 13,
   "id": "c6297ba9-d9d5-4a45-9a91-9aedba74e985",
   "metadata": {},
   "outputs": [],
   "source": [
    "# Create a code cell to multiply and add numbers"
   ]
  },
  {
   "cell_type": "code",
   "execution_count": 14,
   "id": "a3eb06bf-876a-4daa-8899-7dcff05af309",
   "metadata": {},
   "outputs": [],
   "source": [
    "# This a simple arithmetic expression to mutiply then add integers"
   ]
  },
  {
   "cell_type": "code",
   "execution_count": 15,
   "id": "e5474622-8a0d-41dc-ac44-4dcd4c7fea8d",
   "metadata": {},
   "outputs": [
    {
     "data": {
      "text/plain": [
       "17"
      ]
     },
     "execution_count": 15,
     "metadata": {},
     "output_type": "execute_result"
    }
   ],
   "source": [
    "(3*4)+5"
   ]
  },
  {
   "cell_type": "code",
   "execution_count": 16,
   "id": "d48d7c31-0ad6-4ea9-b877-b4a49b66968b",
   "metadata": {},
   "outputs": [],
   "source": [
    "# Create a code cell to convert minutes to hours"
   ]
  },
  {
   "cell_type": "code",
   "execution_count": 17,
   "id": "8474c38a-5782-409d-89c7-d556e1e9a0a4",
   "metadata": {},
   "outputs": [],
   "source": [
    "# This will convert 200 minutes to hours by diving by 60"
   ]
  },
  {
   "cell_type": "code",
   "execution_count": 20,
   "id": "a6ddaa0b-7d6d-43f2-a3b7-74fe3d71512f",
   "metadata": {},
   "outputs": [
    {
     "name": "stdout",
     "output_type": "stream",
     "text": [
      "3.3333333333333335\n"
     ]
    }
   ],
   "source": [
    "minutes = 200\n",
    "hours = minutes / 60\n",
    "print(hours)"
   ]
  },
  {
   "cell_type": "code",
   "execution_count": 23,
   "id": "faabd39d-c7b3-4d25-8b34-29cd66049ebc",
   "metadata": {},
   "outputs": [],
   "source": [
    "# Create a markdown cell to indicate the Author's name"
   ]
  },
  {
   "cell_type": "markdown",
   "id": "d7a1703b-0be7-475b-b81b-21d9b62a6e16",
   "metadata": {},
   "source": [
    "## Author"
   ]
  },
  {
   "cell_type": "markdown",
   "id": "04989deb-9a45-4b87-a17d-9e5ec908c09e",
   "metadata": {},
   "source": [
    "Raunika Tandon"
   ]
  },
  {
   "cell_type": "code",
   "execution_count": null,
   "id": "8a570c95-d6bc-459c-b82f-01c90a5c68e1",
   "metadata": {},
   "outputs": [],
   "source": []
  }
 ],
 "metadata": {
  "kernelspec": {
   "display_name": "Python 3 (ipykernel)",
   "language": "python",
   "name": "python3"
  },
  "language_info": {
   "codemirror_mode": {
    "name": "ipython",
    "version": 3
   },
   "file_extension": ".py",
   "mimetype": "text/x-python",
   "name": "python",
   "nbconvert_exporter": "python",
   "pygments_lexer": "ipython3",
   "version": "3.13.5"
  }
 },
 "nbformat": 4,
 "nbformat_minor": 5
}
